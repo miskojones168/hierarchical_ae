{
 "cells": [
  {
   "cell_type": "code",
   "execution_count": 2,
   "metadata": {},
   "outputs": [],
   "source": [
    "import torch\n",
    "import torch.nn as nn\n",
    "from torchvision import transforms\n",
    "from torchvision.transforms import v2\n",
    "import torchvision\n",
    "\n",
    "from model import Autoencoder\n",
    "import numpy as np\n",
    "from torchsummary import summary\n",
    "import torch.utils.data as data"
   ]
  },
  {
   "cell_type": "markdown",
   "metadata": {},
   "source": [
    "### Prepare input transforms and dataset"
   ]
  },
  {
   "cell_type": "code",
   "execution_count": 3,
   "metadata": {},
   "outputs": [],
   "source": [
    "trans = v2.Compose([\n",
    "    v2.Resize((32, 32)),\n",
    "    v2.PILToTensor(),\n",
    "    v2.ToDtype(torch.float32, scale=True),\n",
    "])"
   ]
  },
  {
   "cell_type": "code",
   "execution_count": 4,
   "metadata": {},
   "outputs": [],
   "source": [
    "batch_size = 32\n",
    "fmnist = torchvision.datasets.FashionMNIST(root='./f_mnist', train=True, download=True, transform=trans)\n",
    "batched_data = data.DataLoader(dataset=fmnist, batch_size=batch_size, shuffle=True, num_workers=0)"
   ]
  },
  {
   "cell_type": "markdown",
   "metadata": {},
   "source": [
    "### Define model"
   ]
  },
  {
   "cell_type": "code",
   "execution_count": 5,
   "metadata": {},
   "outputs": [
    {
     "name": "stdout",
     "output_type": "stream",
     "text": [
      "----------------------------------------------------------------\n",
      "        Layer (type)               Output Shape         Param #\n",
      "================================================================\n",
      "            Conv2d-1           [-1, 32, 16, 16]             320\n",
      "              ReLU-2           [-1, 32, 16, 16]               0\n",
      "            Conv2d-3             [-1, 64, 8, 8]          18,496\n",
      "              ReLU-4             [-1, 64, 8, 8]               0\n",
      "           Flatten-5                 [-1, 4096]               0\n",
      "            Linear-6                   [-1, 10]          40,970\n",
      "            Linear-7                 [-1, 4096]          45,056\n",
      "         Unflatten-8             [-1, 64, 8, 8]               0\n",
      "   ConvTranspose2d-9           [-1, 32, 16, 16]          32,800\n",
      "             ReLU-10           [-1, 32, 16, 16]               0\n",
      "  ConvTranspose2d-11            [-1, 1, 32, 32]             513\n",
      "          Sigmoid-12            [-1, 1, 32, 32]               0\n",
      "================================================================\n",
      "Total params: 138,155\n",
      "Trainable params: 138,155\n",
      "Non-trainable params: 0\n",
      "----------------------------------------------------------------\n",
      "Input size (MB): 0.00\n",
      "Forward/backward pass size (MB): 0.42\n",
      "Params size (MB): 0.53\n",
      "Estimated Total Size (MB): 0.95\n",
      "----------------------------------------------------------------\n"
     ]
    }
   ],
   "source": [
    "model = Autoencoder(img_size=32)\n",
    "summary(model, (1, 32, 32))"
   ]
  },
  {
   "cell_type": "markdown",
   "metadata": {},
   "source": [
    "### Initialize parameters and hyperparameters"
   ]
  },
  {
   "cell_type": "code",
   "execution_count": 6,
   "metadata": {},
   "outputs": [],
   "source": [
    "for params in model.parameters():\n",
    "    if params.dim() > 1:\n",
    "        torch.nn.init.xavier_uniform_(params)\n",
    "\n",
    "optimizer = torch.optim.Adam(model.parameters(), lr=0.00005)\n",
    "loss_function = nn.MSELoss()"
   ]
  },
  {
   "cell_type": "markdown",
   "metadata": {},
   "source": [
    "### Train model"
   ]
  },
  {
   "cell_type": "code",
   "execution_count": null,
   "metadata": {},
   "outputs": [],
   "source": [
    "epochs = 5\n",
    "# training\n",
    "for e in range(epochs):\n",
    "    for batch in batched_data:\n",
    "        optimizer.zero_grad()\n",
    "\n",
    "        x = batch[0].to('cuda')\n",
    "        y_hat = model(x)\n",
    "        loss = loss_function(y_hat, x)\n",
    "        loss.backward()\n",
    "        optimizer.step()\n",
    "        \n",
    "        print(loss.item())\n",
    "        "
   ]
  },
  {
   "cell_type": "markdown",
   "metadata": {},
   "source": [
    "### Save model"
   ]
  },
  {
   "cell_type": "code",
   "execution_count": null,
   "metadata": {},
   "outputs": [],
   "source": [
    "# torch.save(model.state_dict(), 'AE_10latents.pt')"
   ]
  },
  {
   "cell_type": "markdown",
   "metadata": {},
   "source": [
    "### Test reconstruction"
   ]
  },
  {
   "cell_type": "code",
   "execution_count": 7,
   "metadata": {},
   "outputs": [
    {
     "data": {
      "text/plain": [
       "<All keys matched successfully>"
      ]
     },
     "execution_count": 7,
     "metadata": {},
     "output_type": "execute_result"
    }
   ],
   "source": [
    "model.eval()\n",
    "model.load_state_dict(torch.load('AE_10latents.pt'))"
   ]
  },
  {
   "cell_type": "code",
   "execution_count": 8,
   "metadata": {},
   "outputs": [],
   "source": [
    "rev_trans = v2.Compose([\n",
    "    v2.Lambda(lambda t: (t * 255).astype(np.uint8)),\n",
    "    v2.ToPILImage(),\n",
    "])"
   ]
  },
  {
   "cell_type": "code",
   "execution_count": 9,
   "metadata": {},
   "outputs": [
    {
     "data": {
      "image/png": "[encoded data removed]",
      "text/plain": [
       "<Figure size 1920x1440 with 10 Axes>"
      ]
     },
     "metadata": {},
     "output_type": "display_data"
    }
   ],
   "source": [
    "import matplotlib.pyplot as plt\n",
    "\n",
    "fig, ax = plt.subplots(1, 10, dpi=300)\n",
    "\n",
    "for i in range(10):\n",
    "    tmp_img = fmnist[i][0].to('cuda').unsqueeze(axis=0)\n",
    "    pred = model(tmp_img).detach()\n",
    "    img = rev_trans(pred.squeeze().cpu().numpy())\n",
    "    \n",
    "    ax[i].imshow(img)\n",
    "    ax[i].axis('OFF')\n",
    "plt.show()"
   ]
  }
 ],
 "metadata": {
  "kernelspec": {
   "display_name": "base",
   "language": "python",
   "name": "python3"
  },
  "language_info": {
   "codemirror_mode": {
    "name": "ipython",
    "version": 3
   },
   "file_extension": ".py",
   "mimetype": "text/x-python",
   "name": "python",
   "nbconvert_exporter": "python",
   "pygments_lexer": "ipython3",
   "version": "3.9.18"
  }
 },
 "nbformat": 4,
 "nbformat_minor": 2
}
