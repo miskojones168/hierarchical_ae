{
 "cells": [
  {
   "cell_type": "code",
   "execution_count": 1,
   "metadata": {},
   "outputs": [],
   "source": [
    "import torch\n",
    "import numpy as np\n",
    "import pandas as pd\n",
    "import matplotlib.pyplot as plt\n",
    "import seaborn as sns\n",
    "import torchvision\n",
    "from torchvision.transforms import v2\n",
    "from model import Autoencoder\n",
    "\n",
    "import stan\n",
    "\n",
    "import arviz as az\n",
    "\n",
    "import nest_asyncio\n",
    "nest_asyncio.apply()"
   ]
  },
  {
   "cell_type": "markdown",
   "metadata": {},
   "source": [
    "### Define transforms and database"
   ]
  },
  {
   "cell_type": "code",
   "execution_count": 2,
   "metadata": {},
   "outputs": [],
   "source": [
    "# prepare input transforms\n",
    "trans = v2.Compose([\n",
    "    v2.Resize((32, 32)),\n",
    "    v2.PILToTensor(),\n",
    "    v2.ToDtype(torch.float32, scale=True),\n",
    "])\n",
    "# prepare imge conversion transforms\n",
    "rev_trans = v2.Compose([\n",
    "    v2.Lambda(lambda t: (t * 255).astype(np.uint8)),\n",
    "    v2.ToPILImage(),\n",
    "])\n",
    "# declare fmnist dataset\n",
    "fmnist = torchvision.datasets.FashionMNIST(root='./f_mnist', train=True, download=True, transform=trans)"
   ]
  },
  {
   "cell_type": "markdown",
   "metadata": {},
   "source": [
    "### Define autoencoder"
   ]
  },
  {
   "cell_type": "code",
   "execution_count": 3,
   "metadata": {},
   "outputs": [
    {
     "data": {
      "text/plain": [
       "<All keys matched successfully>"
      ]
     },
     "execution_count": 3,
     "metadata": {},
     "output_type": "execute_result"
    }
   ],
   "source": [
    "model = Autoencoder(img_size=32)\n",
    "model.eval()\n",
    "model.load_state_dict(torch.load('AE_10latents.pt'))"
   ]
  },
  {
   "cell_type": "markdown",
   "metadata": {},
   "source": [
    "### Pick latent vectors from $n$ samples"
   ]
  },
  {
   "cell_type": "code",
   "execution_count": 4,
   "metadata": {},
   "outputs": [],
   "source": [
    "samples = [fmnist[i][0] for i in range(100)]\n",
    "# samples"
   ]
  },
  {
   "cell_type": "code",
   "execution_count": 5,
   "metadata": {},
   "outputs": [],
   "source": [
    "labels = [fmnist[i][1] for i in range(100)]\n",
    "# labels"
   ]
  },
  {
   "cell_type": "code",
   "execution_count": 6,
   "metadata": {},
   "outputs": [],
   "source": [
    "data_latents = [model.encoder(i.to('cuda')\n",
    "                              .unsqueeze(axis=0))\n",
    "                              .squeeze()\n",
    "                              .detach()\n",
    "                              .cpu() # up to here this is a torch tensor\n",
    "                              .numpy()\n",
    "                              .tolist() \n",
    "                for i in samples]"
   ]
  },
  {
   "cell_type": "code",
   "execution_count": 7,
   "metadata": {},
   "outputs": [
    {
     "data": {
      "text/plain": [
       "(100, 10)"
      ]
     },
     "execution_count": 7,
     "metadata": {},
     "output_type": "execute_result"
    }
   ],
   "source": [
    "data = np.array(data_latents)\n",
    "data.shape"
   ]
  },
  {
   "cell_type": "markdown",
   "metadata": {},
   "source": [
    "### Build and fit hierarchical model"
   ]
  },
  {
   "cell_type": "code",
   "execution_count": 8,
   "metadata": {},
   "outputs": [],
   "source": [
    "program_code = \"\"\"\n",
    "data {\n",
    "    int<lower=1> J; // number of images\n",
    "    int<lower=1> F; // number of features\n",
    "    int<lower=1> L;\n",
    "    array[J] int<lower=1, upper=10> labels;\n",
    "    array[J] vector[F] feature_vecs;\n",
    "    vector<lower=0>[F] sigma;\n",
    "}\n",
    "\n",
    "parameters {\n",
    "array[L] vector[F] theta;\n",
    "//vector<lower=0>[F] sigma;\n",
    "vector[F] mu;\n",
    "vector<lower=0>[F] tau;\n",
    "}\n",
    "\n",
    "model {\n",
    "    // hyper\n",
    "    mu ~ normal(0, 5);\n",
    "    tau ~ inv_gamma(1, 1);\n",
    "\n",
    "    // priors\n",
    "    theta ~ multi_normal(mu, diag_matrix(tau)); // conditional prior\n",
    "    //sigma ~ cauchy(0, 5);\n",
    "\n",
    "    // Likelihood\n",
    "    for (j in 1:J) {\n",
    "        feature_vecs[j] ~ multi_normal(theta[labels[j]], diag_matrix(sigma));\n",
    "    }\n",
    "}\n",
    "\n",
    "generated quantities {\n",
    "    array[L] vector[F] latents_stan;\n",
    "    for (l in 1:L) {\n",
    "        latents_stan[l] = multi_normal_rng(theta[l], diag_matrix(sigma));\n",
    "    }\n",
    "}\n",
    "\"\"\""
   ]
  },
  {
   "cell_type": "markdown",
   "metadata": {},
   "source": [
    "Build stan model and generate latents"
   ]
  },
  {
   "cell_type": "code",
   "execution_count": null,
   "metadata": {},
   "outputs": [],
   "source": [
    "# Prepare data in Stan friendly format\n",
    "data_dict = {\n",
    "    'J': data.shape[0],\n",
    "    'F': data.shape[1],\n",
    "    'labels': np.array(labels) + 1,\n",
    "    'L': 10,\n",
    "    'feature_vecs': data,\n",
    "    'sigma': np.array([1. for _ in range(10)]),\n",
    "}\n",
    "# Compile model\n",
    "partial_pooling_model1 = stan.build(program_code, data=data_dict)\n",
    "\n",
    "# Fit model\n",
    "partial_pooling_fit1 = partial_pooling_model1.sample(num_chains=4, num_warmup=1000, num_samples=1000)"
   ]
  },
  {
   "cell_type": "markdown",
   "metadata": {},
   "source": [
    "### Visualize latent vectors sampled from hierarchical model"
   ]
  },
  {
   "cell_type": "code",
   "execution_count": 49,
   "metadata": {},
   "outputs": [],
   "source": [
    "summary = az.summary(partial_pooling_fit1)"
   ]
  },
  {
   "cell_type": "code",
   "execution_count": 50,
   "metadata": {},
   "outputs": [
    {
     "data": {
      "text/html": [
       "<div>\n",
       "<style scoped>\n",
       "    .dataframe tbody tr th:only-of-type {\n",
       "        vertical-align: middle;\n",
       "    }\n",
       "\n",
       "    .dataframe tbody tr th {\n",
       "        vertical-align: top;\n",
       "    }\n",
       "\n",
       "    .dataframe thead th {\n",
       "        text-align: right;\n",
       "    }\n",
       "</style>\n",
       "<table border=\"1\" class=\"dataframe\">\n",
       "  <thead>\n",
       "    <tr style=\"text-align: right;\">\n",
       "      <th></th>\n",
       "      <th>mean</th>\n",
       "      <th>sd</th>\n",
       "      <th>hdi_3%</th>\n",
       "      <th>hdi_97%</th>\n",
       "      <th>mcse_mean</th>\n",
       "      <th>mcse_sd</th>\n",
       "      <th>ess_bulk</th>\n",
       "      <th>ess_tail</th>\n",
       "      <th>r_hat</th>\n",
       "    </tr>\n",
       "  </thead>\n",
       "  <tbody>\n",
       "    <tr>\n",
       "      <th>theta[0, 0]</th>\n",
       "      <td>-14.659</td>\n",
       "      <td>0.043</td>\n",
       "      <td>-14.743</td>\n",
       "      <td>-14.580</td>\n",
       "      <td>0.000</td>\n",
       "      <td>0.000</td>\n",
       "      <td>9177.0</td>\n",
       "      <td>2633.0</td>\n",
       "      <td>1.0</td>\n",
       "    </tr>\n",
       "    <tr>\n",
       "      <th>theta[0, 1]</th>\n",
       "      <td>-0.075</td>\n",
       "      <td>0.042</td>\n",
       "      <td>-0.151</td>\n",
       "      <td>0.003</td>\n",
       "      <td>0.000</td>\n",
       "      <td>0.000</td>\n",
       "      <td>8628.0</td>\n",
       "      <td>2783.0</td>\n",
       "      <td>1.0</td>\n",
       "    </tr>\n",
       "    <tr>\n",
       "      <th>theta[0, 2]</th>\n",
       "      <td>-12.670</td>\n",
       "      <td>0.042</td>\n",
       "      <td>-12.744</td>\n",
       "      <td>-12.590</td>\n",
       "      <td>0.000</td>\n",
       "      <td>0.000</td>\n",
       "      <td>8221.0</td>\n",
       "      <td>2647.0</td>\n",
       "      <td>1.0</td>\n",
       "    </tr>\n",
       "    <tr>\n",
       "      <th>theta[0, 3]</th>\n",
       "      <td>-8.290</td>\n",
       "      <td>0.042</td>\n",
       "      <td>-8.370</td>\n",
       "      <td>-8.212</td>\n",
       "      <td>0.000</td>\n",
       "      <td>0.000</td>\n",
       "      <td>9124.0</td>\n",
       "      <td>2805.0</td>\n",
       "      <td>1.0</td>\n",
       "    </tr>\n",
       "    <tr>\n",
       "      <th>theta[0, 4]</th>\n",
       "      <td>-13.639</td>\n",
       "      <td>0.042</td>\n",
       "      <td>-13.722</td>\n",
       "      <td>-13.563</td>\n",
       "      <td>0.000</td>\n",
       "      <td>0.000</td>\n",
       "      <td>8061.0</td>\n",
       "      <td>2824.0</td>\n",
       "      <td>1.0</td>\n",
       "    </tr>\n",
       "    <tr>\n",
       "      <th>...</th>\n",
       "      <td>...</td>\n",
       "      <td>...</td>\n",
       "      <td>...</td>\n",
       "      <td>...</td>\n",
       "      <td>...</td>\n",
       "      <td>...</td>\n",
       "      <td>...</td>\n",
       "      <td>...</td>\n",
       "      <td>...</td>\n",
       "    </tr>\n",
       "    <tr>\n",
       "      <th>latents_stan[9, 5]</th>\n",
       "      <td>-4.692</td>\n",
       "      <td>1.014</td>\n",
       "      <td>-6.592</td>\n",
       "      <td>-2.859</td>\n",
       "      <td>0.016</td>\n",
       "      <td>0.011</td>\n",
       "      <td>4134.0</td>\n",
       "      <td>3796.0</td>\n",
       "      <td>1.0</td>\n",
       "    </tr>\n",
       "    <tr>\n",
       "      <th>latents_stan[9, 6]</th>\n",
       "      <td>2.976</td>\n",
       "      <td>0.989</td>\n",
       "      <td>1.207</td>\n",
       "      <td>4.911</td>\n",
       "      <td>0.015</td>\n",
       "      <td>0.011</td>\n",
       "      <td>4100.0</td>\n",
       "      <td>4083.0</td>\n",
       "      <td>1.0</td>\n",
       "    </tr>\n",
       "    <tr>\n",
       "      <th>latents_stan[9, 7]</th>\n",
       "      <td>-2.982</td>\n",
       "      <td>0.991</td>\n",
       "      <td>-4.763</td>\n",
       "      <td>-1.048</td>\n",
       "      <td>0.016</td>\n",
       "      <td>0.011</td>\n",
       "      <td>3826.0</td>\n",
       "      <td>3851.0</td>\n",
       "      <td>1.0</td>\n",
       "    </tr>\n",
       "    <tr>\n",
       "      <th>latents_stan[9, 8]</th>\n",
       "      <td>55.987</td>\n",
       "      <td>1.004</td>\n",
       "      <td>54.134</td>\n",
       "      <td>57.888</td>\n",
       "      <td>0.016</td>\n",
       "      <td>0.011</td>\n",
       "      <td>3845.0</td>\n",
       "      <td>3513.0</td>\n",
       "      <td>1.0</td>\n",
       "    </tr>\n",
       "    <tr>\n",
       "      <th>latents_stan[9, 9]</th>\n",
       "      <td>-1.890</td>\n",
       "      <td>1.005</td>\n",
       "      <td>-3.744</td>\n",
       "      <td>0.048</td>\n",
       "      <td>0.016</td>\n",
       "      <td>0.011</td>\n",
       "      <td>3882.0</td>\n",
       "      <td>3814.0</td>\n",
       "      <td>1.0</td>\n",
       "    </tr>\n",
       "  </tbody>\n",
       "</table>\n",
       "<p>220 rows × 9 columns</p>\n",
       "</div>"
      ],
      "text/plain": [
       "                      mean     sd  hdi_3%  hdi_97%  mcse_mean  mcse_sd  \\\n",
       "theta[0, 0]        -14.659  0.043 -14.743  -14.580      0.000    0.000   \n",
       "theta[0, 1]         -0.075  0.042  -0.151    0.003      0.000    0.000   \n",
       "theta[0, 2]        -12.670  0.042 -12.744  -12.590      0.000    0.000   \n",
       "theta[0, 3]         -8.290  0.042  -8.370   -8.212      0.000    0.000   \n",
       "theta[0, 4]        -13.639  0.042 -13.722  -13.563      0.000    0.000   \n",
       "...                    ...    ...     ...      ...        ...      ...   \n",
       "latents_stan[9, 5]  -4.692  1.014  -6.592   -2.859      0.016    0.011   \n",
       "latents_stan[9, 6]   2.976  0.989   1.207    4.911      0.015    0.011   \n",
       "latents_stan[9, 7]  -2.982  0.991  -4.763   -1.048      0.016    0.011   \n",
       "latents_stan[9, 8]  55.987  1.004  54.134   57.888      0.016    0.011   \n",
       "latents_stan[9, 9]  -1.890  1.005  -3.744    0.048      0.016    0.011   \n",
       "\n",
       "                    ess_bulk  ess_tail  r_hat  \n",
       "theta[0, 0]           9177.0    2633.0    1.0  \n",
       "theta[0, 1]           8628.0    2783.0    1.0  \n",
       "theta[0, 2]           8221.0    2647.0    1.0  \n",
       "theta[0, 3]           9124.0    2805.0    1.0  \n",
       "theta[0, 4]           8061.0    2824.0    1.0  \n",
       "...                      ...       ...    ...  \n",
       "latents_stan[9, 5]    4134.0    3796.0    1.0  \n",
       "latents_stan[9, 6]    4100.0    4083.0    1.0  \n",
       "latents_stan[9, 7]    3826.0    3851.0    1.0  \n",
       "latents_stan[9, 8]    3845.0    3513.0    1.0  \n",
       "latents_stan[9, 9]    3882.0    3814.0    1.0  \n",
       "\n",
       "[220 rows x 9 columns]"
      ]
     },
     "execution_count": 50,
     "metadata": {},
     "output_type": "execute_result"
    }
   ],
   "source": [
    "summary"
   ]
  },
  {
   "cell_type": "code",
   "execution_count": 53,
   "metadata": {},
   "outputs": [],
   "source": [
    "# prepare sampled latent vectors\n",
    "tmp = []\n",
    "latents = summary['mean'].iloc[120:]\n",
    "for i in range(10):\n",
    "    l_vec = []\n",
    "    for j in range(10):\n",
    "       l_vec.append(latents[10*i + j])\n",
    "    tmp.append(l_vec) "
   ]
  },
  {
   "cell_type": "markdown",
   "metadata": {},
   "source": [
    "Visualize generated latent vectors"
   ]
  },
  {
   "cell_type": "markdown",
   "metadata": {},
   "source": [
    "0 T-shirt/top\n",
    "1 Trouser\n",
    "2 Pullover\n",
    "3 Dress\n",
    "4 Coat\n",
    "5 Sandal\n",
    "6 Shirt\n",
    "7 Sneaker\n",
    "8 Bag\n",
    "9 Ankle boot"
   ]
  },
  {
   "cell_type": "code",
   "execution_count": 54,
   "metadata": {},
   "outputs": [
    {
     "data": {
      "image/png": "[encoded data removed]",
      "text/plain": [
       "<Figure size 1920x1440 with 10 Axes>"
      ]
     },
     "metadata": {},
     "output_type": "display_data"
    }
   ],
   "source": [
    "fig, ax = plt.subplots(1, 10, dpi=300)\n",
    "\n",
    "for i in range(10):\n",
    "    test = torch.FloatTensor(tmp[i]).to('cuda').unsqueeze(axis=0)\n",
    "    reconstructed = model.decoder(test).squeeze().detach().cpu().numpy()\n",
    "    img = rev_trans(reconstructed)\n",
    "    \n",
    "    ax[i].imshow(img)\n",
    "    ax[i].axis('OFF')\n",
    "\n",
    "plt.show()"
   ]
  }
 ],
 "metadata": {
  "kernelspec": {
   "display_name": "base",
   "language": "python",
   "name": "python3"
  },
  "language_info": {
   "codemirror_mode": {
    "name": "ipython",
    "version": 3
   },
   "file_extension": ".py",
   "mimetype": "text/x-python",
   "name": "python",
   "nbconvert_exporter": "python",
   "pygments_lexer": "ipython3",
   "version": "3.9.18"
  }
 },
 "nbformat": 4,
 "nbformat_minor": 2
}
